{
 "cells": [
  {
   "cell_type": "code",
   "execution_count": 28,
   "id": "755b8d86-3c59-45a8-b763-c737680d4cf4",
   "metadata": {
    "tags": []
   },
   "outputs": [],
   "source": [
    "#Importação das bibliotecas\n",
    "import pandas as pd\n",
    "from selenium import webdriver\n",
    "from time import sleep\n",
    "from selenium.webdriver.common.by import By\n",
    "from selenium.webdriver.common.keys import Keys\n",
    "from selenium.common.exceptions import NoSuchElementException\n",
    "import urllib"
   ]
  },
  {
   "cell_type": "code",
   "execution_count": 68,
   "id": "1c2f3271",
   "metadata": {},
   "outputs": [],
   "source": [
    "#Escolhe o tipo de agendamento para avisar\n",
    "while True:\n",
    "    escolha = input('Escolha o tipo de aviso:\\n<1>Exames\\n<2>Consultas\\n') \n",
    "    match escolha:\n",
    "        case '1': #Mensagens para Exames\n",
    "            df_aviso = pd.read_excel('exames.xlsx') #cria um dataframe com os exames\n",
    "            df_aviso.loc[df_aviso['Controle'].isna(),'Controle'] = ''\n",
    "            break\n",
    "        case '2': #Mensagens para Consultas\n",
    "            df_aviso = pd.read_excel('consultas.xlsx') #cria um dataframe com as consultas\n",
    "            try: #Ajusta os campos caso venham no formato datetime\n",
    "                df_aviso['Data'] = df_aviso['Data'].dt.strftime('%d/%m/%Y') #Ajusta a data\n",
    "                df_aviso['Hora'] = df_aviso['Hora'].apply(lambda x: x.strftime('%H:%M')) #Ajusta a hora\n",
    "            except Exception:\n",
    "                pass #Ignora caso os campos já estejam no formato texto\n",
    "            finally:\n",
    "                df_aviso.loc[df_aviso['Controle'].isna(),'Controle'] = ''\n",
    "                \n",
    "            break\n",
    "        case _:\n",
    "            print('Escolha errada, tente novamente.')"
   ]
  },
  {
   "cell_type": "code",
   "execution_count": 30,
   "id": "db29605d",
   "metadata": {},
   "outputs": [],
   "source": [
    "def login_whats(driver): #função para realizar o login no whatsapp\n",
    "    print('Verificando login.\\n')\n",
    "    while True:\n",
    "        try:\n",
    "            campo_busca = driver.find_element(By.XPATH,'//*[@id=\"side\"]/div[1]/div/div[2]/div[2]/div/div[1]')\n",
    "            print(\"Whatsapp logado.\")\n",
    "            break #whatsapp já está logado\n",
    "        except NoSuchElementException:\n",
    "            sleep(5) #tempo para aguardar o login\n",
    "    sleep(3) #tempo para carregar a página após o login"
   ]
  },
  {
   "cell_type": "code",
   "execution_count": 31,
   "id": "664426ca",
   "metadata": {},
   "outputs": [],
   "source": [
    "def cria_mensagem(escolha,df,i):\n",
    "    match escolha:\n",
    "        case '1':\n",
    "            mensagem = f'''Olá, Sr(a) *{df.loc[i,'Nome']}*\n",
    "Estamos entrando em contato para comunicar o agendamento de: \n",
    "*{df.loc[i,'Procedimento']}*\n",
    "*{df.loc[i,'Data/Hora']}*\n",
    "\n",
    "Digite *1* Para *CONFIRMAR*\n",
    "Digite *2* Para *REMARCAR* (Justifique o motivo)\n",
    "Digite *3* Para *EXCLUIR* (Justifique o motivo)\n",
    "\n",
    "at.te\n",
    "Acolhe-PG\n",
    "'''\n",
    "        case '2':\n",
    "            if df.loc[i,'Tipo Consulta'] == 'N':\n",
    "                tipo_consulta = 'Consulta'\n",
    "            else:\n",
    "                tipo_consulta = 'Retorno'\n",
    "            mensagem = f'''Olá, Sr(a) *{df.loc[i,'Nome']}*\n",
    "Estamos entrando em contato para comunicar o agendamento de *{tipo_consulta}*: \n",
    "*{df.loc[i,'Procedimento']}* \n",
    "*{df.loc[i,'Profissional']}*\n",
    "*{df.loc[i,'Data']}*\n",
    "*{df.loc[i,'Hora']}*\n",
    "\n",
    "Digite *1* Para *CONFIRMAR*\n",
    "Digite *2* Para *REMARCAR* (Justifique o motivo)\n",
    "Digite *3* Para *EXCLUIR* (Justifique o motivo)\n",
    "\n",
    "at.te\n",
    "Acolhe-PG\n",
    "'''\n",
    "    return mensagem"
   ]
  },
  {
   "cell_type": "code",
   "execution_count": null,
   "id": "65a1b837-39c2-417a-b659-e90a3a761e5b",
   "metadata": {
    "tags": []
   },
   "outputs": [],
   "source": [
    "#Abre o navegador\n",
    "driver = webdriver.Chrome()\n",
    "driver.get('https://web.whatsapp.com/')\n",
    "#Loop para logar o captcha\n",
    "login_whats(driver) "
   ]
  },
  {
   "cell_type": "code",
   "execution_count": null,
   "id": "9fa3f762",
   "metadata": {},
   "outputs": [],
   "source": [
    "qtd_avisos = df_aviso.loc[df_aviso['Controle']!='Enviado','Controle'].count() #contabiliza a quantidade de envios que serão realizados\n",
    "try:\n",
    "        #Envia as mensagens para cada paciente na listagem\n",
    "        for y,i in enumerate(df_aviso.loc[df_aviso['Controle']!='Enviado','Controle'].index): #percorre apenas os indices que serão utilizados para o contador\n",
    "                print(f'Enviando mensagens, aguarde! Progresso: {y+1}/{qtd_avisos}')\n",
    "                if df_aviso.loc[i,'Controle'] == 'Enviado': \n",
    "                        continue #pula a repetição caso já tenha enviado a mensagem\n",
    "                else:\n",
    "                        mensagem = cria_mensagem(escolha,df_aviso,i)\n",
    "                        contato = df_aviso.loc[i,'Telefone']\n",
    "                        if type(contato) == float: #Garante que a aplicação continua funcionando com valores nulos\n",
    "                                df_aviso.loc[i,'Controle'] = 'Sem sucesso'\n",
    "                                continue\n",
    "                        texto = urllib.parse.quote(mensagem)\n",
    "                        try:\n",
    "                                driver.get(f'https://web.whatsapp.com/send/?phone=55${contato}&text={texto}')\n",
    "                                \n",
    "                                while len(driver.find_elements(By.ID,'side')) < 1:\n",
    "                                        sleep(1)\n",
    "                                sleep(3)\n",
    "                                driver.find_element(By.XPATH,'//*[@id=\"main\"]/footer/div[1]/div/span[2]/div/div[2]/div[1]/div/div[1]/p').send_keys(Keys.ENTER)\n",
    "                                df_aviso.loc[i,'Controle'] = 'Enviado'\n",
    "                                sleep(5)\n",
    "                                \n",
    "                        except NoSuchElementException: #Exceção para quando não existe whatsapp cadastrado no número\n",
    "                                df_aviso.loc[i,'Controle'] = 'Sem sucesso'\n",
    "                                continue\n",
    "                        except Exception as e:\n",
    "                                print(f'Erro {type(e)} ao enviar para {contato}.') #detecta outros possíveis erros para posterior tratamento\n",
    "                                continue\n",
    "                        finally:\n",
    "                            match escolha: #atualiza a planilha de acordo com o aviso realizado\n",
    "                                case '1':\n",
    "                                        df_aviso.to_excel('exames.xlsx',index=False)\n",
    "                                case '2':\n",
    "                                        df_aviso.to_excel('consultas.xlsx',index=False)     \n",
    "        \n",
    "                  \n",
    "finally:\n",
    "    print('Fim da aplicação.\\nProgresso salvo na planilha.')\n",
    "    driver.close()   \n"
   ]
  }
 ],
 "metadata": {
  "kernelspec": {
   "display_name": "Python 3 (ipykernel)",
   "language": "python",
   "name": "python3"
  },
  "language_info": {
   "codemirror_mode": {
    "name": "ipython",
    "version": 3
   },
   "file_extension": ".py",
   "mimetype": "text/x-python",
   "name": "python",
   "nbconvert_exporter": "python",
   "pygments_lexer": "ipython3",
   "version": "3.12.5"
  }
 },
 "nbformat": 4,
 "nbformat_minor": 5
}
