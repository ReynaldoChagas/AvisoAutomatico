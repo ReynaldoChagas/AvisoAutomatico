{
 "cells": [
  {
   "cell_type": "code",
   "execution_count": 1,
   "id": "755b8d86-3c59-45a8-b763-c737680d4cf4",
   "metadata": {
    "tags": []
   },
   "outputs": [],
   "source": [
    "#Importação das bibliotecas\n",
    "import pandas as pd\n",
    "from selenium import webdriver\n",
    "from time import sleep\n",
    "from selenium.webdriver.common.by import By\n",
    "from selenium.webdriver.common.keys import Keys\n",
    "from selenium.common.exceptions import NoSuchElementException\n",
    "import urllib"
   ]
  },
  {
   "cell_type": "code",
   "execution_count": 36,
   "id": "c4859a2e-14d0-4771-b8f6-4ed8df390cd6",
   "metadata": {
    "tags": []
   },
   "outputs": [
    {
     "data": {
      "text/html": [
       "<div>\n",
       "<style scoped>\n",
       "    .dataframe tbody tr th:only-of-type {\n",
       "        vertical-align: middle;\n",
       "    }\n",
       "\n",
       "    .dataframe tbody tr th {\n",
       "        vertical-align: top;\n",
       "    }\n",
       "\n",
       "    .dataframe thead th {\n",
       "        text-align: right;\n",
       "    }\n",
       "</style>\n",
       "<table border=\"1\" class=\"dataframe\">\n",
       "  <thead>\n",
       "    <tr style=\"text-align: right;\">\n",
       "      <th></th>\n",
       "      <th>Nome</th>\n",
       "      <th>Telefone</th>\n",
       "      <th>Procedimento</th>\n",
       "      <th>Data/Hora</th>\n",
       "      <th>Controle</th>\n",
       "    </tr>\n",
       "  </thead>\n",
       "  <tbody>\n",
       "    <tr>\n",
       "      <th>0</th>\n",
       "      <td>Fulano da Silva</td>\n",
       "      <td>(13) 00000-0000</td>\n",
       "      <td>Ultrassonografia De Globo Ocular / Orbita (Mon...</td>\n",
       "      <td>20/08/2024 - 16:40</td>\n",
       "      <td>Sem sucesso</td>\n",
       "    </tr>\n",
       "    <tr>\n",
       "      <th>1</th>\n",
       "      <td>Ciclano Souza</td>\n",
       "      <td>NaN</td>\n",
       "      <td>Tomografia de Cranio C/ Contraste (PMV)</td>\n",
       "      <td>22/08/2024 - 07:00</td>\n",
       "      <td>Sem sucesso</td>\n",
       "    </tr>\n",
       "    <tr>\n",
       "      <th>2</th>\n",
       "      <td>Beltrano Almeida</td>\n",
       "      <td>(13) 99999-9999</td>\n",
       "      <td>Consulta Pre-Natal Alto Risco (PMV)</td>\n",
       "      <td>10/09/2024 - 08:40</td>\n",
       "      <td>Sem sucesso</td>\n",
       "    </tr>\n",
       "    <tr>\n",
       "      <th>3</th>\n",
       "      <td>Fulano da Silva</td>\n",
       "      <td>(13) 99999-9999</td>\n",
       "      <td>Consulta Pre-Natal Alto Risco (PMV)</td>\n",
       "      <td>17/09/2024 - 08:00</td>\n",
       "      <td>Sem sucesso</td>\n",
       "    </tr>\n",
       "    <tr>\n",
       "      <th>4</th>\n",
       "      <td>Ciclano Souza</td>\n",
       "      <td>(13) 99999-9999</td>\n",
       "      <td>Eletroneuromiograma Membro Superior Direito(En...</td>\n",
       "      <td>19/09/2024 - 07:35</td>\n",
       "      <td>Sem sucesso</td>\n",
       "    </tr>\n",
       "  </tbody>\n",
       "</table>\n",
       "</div>"
      ],
      "text/plain": [
       "               Nome         Telefone  \\\n",
       "0   Fulano da Silva  (13) 00000-0000   \n",
       "1     Ciclano Souza              NaN   \n",
       "2  Beltrano Almeida  (13) 99999-9999   \n",
       "3   Fulano da Silva  (13) 99999-9999   \n",
       "4     Ciclano Souza  (13) 99999-9999   \n",
       "\n",
       "                                        Procedimento           Data/Hora  \\\n",
       "0  Ultrassonografia De Globo Ocular / Orbita (Mon...  20/08/2024 - 16:40   \n",
       "1            Tomografia de Cranio C/ Contraste (PMV)  22/08/2024 - 07:00   \n",
       "2                Consulta Pre-Natal Alto Risco (PMV)  10/09/2024 - 08:40   \n",
       "3                Consulta Pre-Natal Alto Risco (PMV)  17/09/2024 - 08:00   \n",
       "4  Eletroneuromiograma Membro Superior Direito(En...  19/09/2024 - 07:35   \n",
       "\n",
       "      Controle  \n",
       "0  Sem sucesso  \n",
       "1  Sem sucesso  \n",
       "2  Sem sucesso  \n",
       "3  Sem sucesso  \n",
       "4  Sem sucesso  "
      ]
     },
     "execution_count": 36,
     "metadata": {},
     "output_type": "execute_result"
    }
   ],
   "source": [
    "#Adequando o dataframe com os avisos de procedimentos e exames\n",
    "df_aviso = pd.read_excel('CONTROLE AVISO.xlsx')\n",
    "df_aviso.head()"
   ]
  },
  {
   "cell_type": "code",
   "execution_count": null,
   "id": "65a1b837-39c2-417a-b659-e90a3a761e5b",
   "metadata": {
    "tags": []
   },
   "outputs": [],
   "source": [
    "#Abre o navegador para logar o whatsapp\n",
    "driver = webdriver.Chrome()\n",
    "driver.get('https://web.whatsapp.com/')\n",
    "sleep(10)\n",
    "\n",
    "#Loop para logar o captcha\n",
    "while True:\n",
    "    try:\n",
    "        campo_busca = driver.find_element(By.XPATH,'//*[@id=\"side\"]/div[1]/div/div[2]/div[2]/div/div[1]')\n",
    "        break #whatsapp já está logado\n",
    "\n",
    "    except NoSuchElementException:\n",
    "        print(\"Whatsapp ainda não foi logado, nova tentativa em 10 segundos\")\n",
    "        sleep(10)"
   ]
  },
  {
   "cell_type": "code",
   "execution_count": null,
   "id": "9fa3f762",
   "metadata": {},
   "outputs": [],
   "source": [
    "#Envia as mensagens para cada paciente na listagem\n",
    "for i in df_aviso.index:\n",
    "        if df_aviso.loc[i,'Controle'] != 'Enviado':\n",
    "                mensagem = f'''Olá, Sr(a) *{df_aviso.loc[i,'Nome']}*\n",
    "Estamos entrando em contato para comunicar o agendamento de: \n",
    "*{df_aviso.loc[i,'Procedimento']}*\n",
    "*{df_aviso.loc[i,'Data/Hora']}*\n",
    "\n",
    "Digite *1* Para *CONFIRMAR*\n",
    "Digite *2* Para *REMARCAR* (Justifique o motivo)\n",
    "Digite *3* Para *CONFIRMAR* (Justifique o motivo)\n",
    "\n",
    "at.te\n",
    "'''\n",
    "                contato = df_aviso.loc[i,'Telefone']\n",
    "                if type(contato) == float: #Garante que a aplicação continua funcionando com valores nulos\n",
    "                        df_aviso.loc[i,'Controle'] = 'Sem sucesso'\n",
    "                        continue\n",
    "                texto = urllib.parse.quote(mensagem)\n",
    "                try:\n",
    "                        driver.get(f'https://web.whatsapp.com/send/?phone=55${contato}&text={texto}')\n",
    "                        \n",
    "                        while len(driver.find_elements(By.ID,'side')) < 1:\n",
    "                                sleep(1)\n",
    "                        sleep(5)\n",
    "                        driver.find_element(By.XPATH,'//*[@id=\"main\"]/footer/div[1]/div/span[2]/div/div[2]/div[1]/div/div[1]/p').send_keys(Keys.ENTER)\n",
    "                        sleep(5)\n",
    "                        df_aviso.loc[i,'Controle'] = 'Enviado'\n",
    "                except NoSuchElementException: #Exceção para quando não existe whatsapp cadastrado no número\n",
    "                        df_aviso.loc[i,'Controle'] = 'Sem sucesso'\n",
    "                        continue\n",
    "        else:\n",
    "                continue"
   ]
  },
  {
   "cell_type": "code",
   "execution_count": 35,
   "id": "ae6d5337",
   "metadata": {},
   "outputs": [],
   "source": [
    "#Sobrescreve o DataFrame na planilha para atualização dos contatos inexistentes\n",
    "df_aviso.to_excel('CONTROLE AVISO.xlsx',index=False)"
   ]
  }
 ],
 "metadata": {
  "kernelspec": {
   "display_name": "Python 3 (ipykernel)",
   "language": "python",
   "name": "python3"
  },
  "language_info": {
   "codemirror_mode": {
    "name": "ipython",
    "version": 3
   },
   "file_extension": ".py",
   "mimetype": "text/x-python",
   "name": "python",
   "nbconvert_exporter": "python",
   "pygments_lexer": "ipython3",
   "version": "3.12.5"
  }
 },
 "nbformat": 4,
 "nbformat_minor": 5
}
